{
  "nbformat": 4,
  "nbformat_minor": 0,
  "metadata": {
    "colab": {
      "provenance": [],
      "authorship_tag": "ABX9TyNEaCNKiuqNfRGiBfaSw3dz",
      "include_colab_link": true
    },
    "kernelspec": {
      "name": "python3",
      "display_name": "Python 3"
    },
    "language_info": {
      "name": "python"
    }
  },
  "cells": [
    {
      "cell_type": "markdown",
      "metadata": {
        "id": "view-in-github",
        "colab_type": "text"
      },
      "source": [
        "<a href=\"https://colab.research.google.com/github/ddouglss/-sa02-douglasmuniz-Poo/blob/master/Atividade.ipynb\" target=\"_parent\"><img src=\"https://colab.research.google.com/assets/colab-badge.svg\" alt=\"Open In Colab\"/></a>"
      ]
    },
    {
      "cell_type": "markdown",
      "source": [
        "4) Elabore um programa, usando variáveis, que mostre seus dados pessoais, conforme exemplo abaixo:"
      ],
      "metadata": {
        "id": "xanVnz77WbXj"
      }
    },
    {
      "cell_type": "code",
      "source": [
        "nome = \"José Dario Pintor da Silva\"\n",
        "endereco = \"Asa norte\"\n",
        "telefone = 6140048989\n",
        "\n",
        "print(nome)\n",
        "print(endereco)\n",
        "print(telefone)"
      ],
      "metadata": {
        "colab": {
          "base_uri": "https://localhost:8080/"
        },
        "id": "rKDkEIURWhRf",
        "outputId": "6b41cb16-86ea-4a0b-b5aa-762d0508e30d"
      },
      "execution_count": 2,
      "outputs": [
        {
          "output_type": "stream",
          "name": "stdout",
          "text": [
            "José Dario Pintor da Silva\n",
            "Asa norte\n",
            "6140048989\n"
          ]
        }
      ]
    },
    {
      "cell_type": "markdown",
      "source": [
        "5) Criar um algoritmo que imprima o produto entre 28 e 43."
      ],
      "metadata": {
        "id": "PkjZMvTuXxuz"
      }
    },
    {
      "cell_type": "code",
      "source": [
        "num1 = input ('entre com o produto')\n",
        "num2 = input ('entre com o outro produto')\n",
        "\n",
        "print ('O produto é 28', num1, 'O produto é 43', num2)"
      ],
      "metadata": {
        "colab": {
          "base_uri": "https://localhost:8080/"
        },
        "id": "dmHq7WAOXy1p",
        "outputId": "6d51f2e9-1a8c-49b4-e8a3-e8e7e0bd9db9"
      },
      "execution_count": 4,
      "outputs": [
        {
          "output_type": "stream",
          "name": "stdout",
          "text": [
            "entre com o produto23\n",
            "entre com o outro produto40\n",
            "O produto é 28 23 O produto é 43 40\n"
          ]
        }
      ]
    },
    {
      "cell_type": "markdown",
      "source": [
        "6) Criar um algoritmo que imprima a média aritmética entre os números 8, 9 e 7."
      ],
      "metadata": {
        "id": "6kb7S6_EZt19"
      }
    },
    {
      "cell_type": "code",
      "source": [
        "numero1 = 8\n",
        "numero2 = 9\n",
        "numero3 = 7\n",
        "\n",
        "media = (numero1 + numero2 + numero3) /3\n",
        "\n",
        "print('A média aritimética é:',media)\n"
      ],
      "metadata": {
        "colab": {
          "base_uri": "https://localhost:8080/"
        },
        "id": "mepIcdOAZvDl",
        "outputId": "09915d0d-25b0-477a-8a85-3a323a11ed6d"
      },
      "execution_count": 5,
      "outputs": [
        {
          "output_type": "stream",
          "name": "stdout",
          "text": [
            "A média aritimética é: 8.0\n"
          ]
        }
      ]
    },
    {
      "cell_type": "markdown",
      "source": [
        "7) Imprimir a mensagem: \"É PRECISO FAZER TODOS OS ALGORITMOS PARA APRENDER\""
      ],
      "metadata": {
        "id": "QTr0f1dhblyn"
      }
    },
    {
      "cell_type": "code",
      "source": [
        "texto = 'É PRECISO FAZER TODOS OS ALGORITMOS PARA APRENDER'\n",
        "\n",
        "print(texto)"
      ],
      "metadata": {
        "colab": {
          "base_uri": "https://localhost:8080/"
        },
        "id": "ySUd-FNxbnEV",
        "outputId": "455dad1c-12b2-4bbc-d70f-96a6a7c0be12"
      },
      "execution_count": 7,
      "outputs": [
        {
          "output_type": "stream",
          "name": "stdout",
          "text": [
            "É PRECISO FAZER TODOS OS ALGORITMOS PARA APRENDER\n"
          ]
        }
      ]
    },
    {
      "cell_type": "markdown",
      "source": [
        "8) Ler um número inteiro e imprimir seu sucessor e seu antecessor."
      ],
      "metadata": {
        "id": "iDtA0r7McVLC"
      }
    },
    {
      "cell_type": "code",
      "source": [
        "numero = int(input('digite um número inteiro: '))\n",
        "\n",
        "\n",
        "sucessor = numero + 1\n",
        "antecessor = numero - 1\n",
        "\n",
        "print('O sucessor de', numero, 'é', sucessor)\n",
        "print('O antecessor de', numero, 'é', antecessor)"
      ],
      "metadata": {
        "colab": {
          "base_uri": "https://localhost:8080/"
        },
        "id": "VUidvqrucWMw",
        "outputId": "8bc013d7-0ced-4eaa-cb8f-942c3239fd0a"
      },
      "execution_count": 11,
      "outputs": [
        {
          "output_type": "stream",
          "name": "stdout",
          "text": [
            "Digite um número inteiro: 7\n",
            "O sucessor de 7 é 8\n",
            "O antecessor de 7 é 6\n"
          ]
        }
      ]
    },
    {
      "cell_type": "markdown",
      "source": [
        "9) Ler nome, endereço e telefone e imprimi-los.\n"
      ],
      "metadata": {
        "id": "gBadUKKadz51"
      }
    },
    {
      "cell_type": "code",
      "source": [
        "nome = input('digite o nome: ')\n",
        "endereco = input('digite o endereço: ')\n",
        "telefone = input('digite o telefone: ')\n",
        "\n",
        "print('Nome:', nome)\n",
        "print('Endereço:', endereco)\n",
        "print('Telefone:', telefone)"
      ],
      "metadata": {
        "colab": {
          "base_uri": "https://localhost:8080/"
        },
        "id": "Soei_EOcd1Ef",
        "outputId": "0a784e5b-0f4e-4f7c-dea9-d462dbbc68d4"
      },
      "execution_count": 12,
      "outputs": [
        {
          "output_type": "stream",
          "name": "stdout",
          "text": [
            "Digite o nome: douglas\n",
            "Digite o endereço: asasd\n",
            "Digite o telefone: 4544646\n",
            "Nome: douglas\n",
            "Endereço: asasd\n",
            "Telefone: 4544646\n"
          ]
        }
      ]
    },
    {
      "cell_type": "markdown",
      "source": [
        "10) Ler dois números inteiros e imprimir a soma. Antes do resultado, deverá aparecer a mensagem: Soma."
      ],
      "metadata": {
        "id": "NNmu6rscebyN"
      }
    },
    {
      "cell_type": "code",
      "source": [
        "numero1 = int(input('digite o primeiro número inteiro: '))\n",
        "numero2 = int(input('digite o segundo número inteiro: '))\n",
        "\n",
        "soma = numero1 + numero2\n",
        "\n",
        "print('soma:', soma)"
      ],
      "metadata": {
        "colab": {
          "base_uri": "https://localhost:8080/"
        },
        "id": "TGg3XmPCeckk",
        "outputId": "acbf0eb4-cdd5-40e5-9e76-1f6064aad5e8"
      },
      "execution_count": 13,
      "outputs": [
        {
          "output_type": "stream",
          "name": "stdout",
          "text": [
            "digite o primeiro número inteiro: 2\n",
            "digite o segundo número inteiro: 4\n",
            "soma: 6\n"
          ]
        }
      ]
    }
  ]
}