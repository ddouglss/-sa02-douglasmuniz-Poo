{
  "nbformat": 4,
  "nbformat_minor": 0,
  "metadata": {
    "colab": {
      "provenance": [],
      "authorship_tag": "ABX9TyNQ5vHvtDrAp42ZyHpLwSFr",
      "include_colab_link": true
    },
    "kernelspec": {
      "name": "python3",
      "display_name": "Python 3"
    },
    "language_info": {
      "name": "python"
    }
  },
  "cells": [
    {
      "cell_type": "markdown",
      "metadata": {
        "id": "view-in-github",
        "colab_type": "text"
      },
      "source": [
        "<a href=\"https://colab.research.google.com/github/ddouglss/-sa02-douglasmuniz-Poo/blob/master/Atividade2.ipynb\" target=\"_parent\"><img src=\"https://colab.research.google.com/assets/colab-badge.svg\" alt=\"Open In Colab\"/></a>"
      ]
    },
    {
      "cell_type": "markdown",
      "source": [
        "1 - Entrar com dois números reais e imprimir a media aritmética com a mensagem\n",
        "media antes do resultado"
      ],
      "metadata": {
        "id": "EE6w2GDwZFx9"
      }
    },
    {
      "cell_type": "code",
      "source": [
        "num1 = float(input(\"informe um número \"))\n",
        "num2 = float(input(\"informe o segundo número \"))\n",
        "\n",
        "num3 = (num1 + num2)/2\n",
        "\n",
        "print(\"media\", num3)"
      ],
      "metadata": {
        "colab": {
          "base_uri": "https://localhost:8080/"
        },
        "id": "F7ci4FquZPk3",
        "outputId": "6288ad14-7489-45ff-bddf-e2b659f0af6e"
      },
      "execution_count": 1,
      "outputs": [
        {
          "output_type": "stream",
          "name": "stdout",
          "text": [
            "informe um número 2\n",
            "informe o segundo número 3\n",
            "media 2.5\n"
          ]
        }
      ]
    },
    {
      "cell_type": "markdown",
      "source": [
        "2 - Entrar com dois números inteiros e imprimir a seguinte saída:\n",
        "dividendo:\n",
        "divisor:\n",
        "quociente:\n",
        "resto:"
      ],
      "metadata": {
        "id": "Z9ZLRhNwZiAG"
      }
    },
    {
      "cell_type": "code",
      "source": [
        "dividendo = float(input(\"informe o dividendo \"))\n",
        "divisor = float(input(\"informe o divisor \"))\n",
        "\n",
        "quociente = dividendo // divisor\n",
        "resto = dividendo % divisor\n",
        "\n",
        "print(quociente)\n",
        "print(resto)"
      ],
      "metadata": {
        "colab": {
          "base_uri": "https://localhost:8080/"
        },
        "id": "2lmHUfqPaxwT",
        "outputId": "455a8ad9-e590-4ee0-8568-d01ae3cb089e"
      },
      "execution_count": 2,
      "outputs": [
        {
          "output_type": "stream",
          "name": "stdout",
          "text": [
            "informe o dividendo 34\n",
            "informe o divisor 34\n",
            "1.0\n",
            "0.0\n"
          ]
        }
      ]
    },
    {
      "cell_type": "markdown",
      "source": [
        "3 - Entrar com quatro números e imprimir a média ponderada, sabendo-se que os\n",
        "pesos são respectivamente: 1, 2, 3 e 4."
      ],
      "metadata": {
        "id": "YpXuOkBlbD3W"
      }
    },
    {
      "cell_type": "code",
      "source": [
        "num1 = float(input(\"informe o primeiro número \"))\n",
        "num2 = float(input(\"informe o segundo número \"))\n",
        "num3 = float(input(\"informe o terceiro número \"))\n",
        "num4 = float(input(\"informe o quarto número \"))\n",
        "\n",
        "peso1 = 1\n",
        "peso2 = 2\n",
        "peso3 = 3\n",
        "peso4 = 4\n",
        "\n",
        "sompeso = peso1 + peso2 + peso3 + peso4\n",
        "med = (num1 * peso1 + num2 * peso2 + num3 * peso3 + num4 * peso4)/ sompeso\n",
        "\n",
        "print(med)"
      ],
      "metadata": {
        "colab": {
          "base_uri": "https://localhost:8080/"
        },
        "id": "FwaKztr4bEmp",
        "outputId": "de065c51-9162-4832-ac05-0487bb0e1b9d"
      },
      "execution_count": 3,
      "outputs": [
        {
          "output_type": "stream",
          "name": "stdout",
          "text": [
            "informe o primeiro número 23\n",
            "informe o segundo número 34\n",
            "informe o terceiro número 24\n",
            "informe o quarto número 12\n",
            "21.1\n"
          ]
        }
      ]
    },
    {
      "cell_type": "markdown",
      "source": [
        "Algoritmo 42 - Entrar com um ângulo em graus e imprimir: seno, co-seno, tangente, secante,\n",
        "co-secante e co-tangente deste ângulo.\n",
        "*\n"
      ],
      "metadata": {
        "id": "7qG8Zs1ocjff"
      }
    },
    {
      "cell_type": "code",
      "source": [
        "import math\n",
        "\n",
        "angulo_graus = float(input(\"Digite o ângulo em graus: \"))\n",
        "\n",
        "angulo_radianos = math.radians(angulo_graus)\n",
        "\n",
        "seno = math.sin(angulo_radianos)\n",
        "cosseno = math.cos(angulo_radianos)\n",
        "tangente = math.tan(angulo_radianos)\n",
        "\n",
        "secante = 1 / cosseno\n",
        "cosecante = 1 / seno\n",
        "cotangente = 1 / tangente\n",
        "\n",
        "print(\"Seno:\", seno)\n",
        "print(\"Cosseno:\", cosseno)\n",
        "print(\"Tangente:\", tangente)\n",
        "print(\"Secante:\", secante)\n",
        "print(\"Co-Secante:\", cosecante)\n",
        "print(\"Co-Tangente:\", cotangente)"
      ],
      "metadata": {
        "colab": {
          "base_uri": "https://localhost:8080/"
        },
        "id": "pIk7AM6NdCyp",
        "outputId": "b4361cc9-49e2-481e-abde-ae267bbaa859"
      },
      "execution_count": 4,
      "outputs": [
        {
          "output_type": "stream",
          "name": "stdout",
          "text": [
            "Digite o ângulo em graus: 23\n",
            "Seno: 0.39073112848927377\n",
            "Cosseno: 0.9205048534524404\n",
            "Tangente: 0.42447481620960476\n",
            "Secante: 1.0863603774052961\n",
            "Co-Secante: 2.5593046652474523\n",
            "Co-Tangente: 2.3558523658237527\n"
          ]
        }
      ]
    },
    {
      "cell_type": "markdown",
      "source": [
        "Algoritmo 43 - Entrar com um número e imprimir o logaritmo desse número na base 10."
      ],
      "metadata": {
        "id": "7aRMXhZydKZz"
      }
    },
    {
      "cell_type": "code",
      "source": [
        "import math\n",
        "\n",
        "numero = float(input(\"Digite um número: \"))\n",
        "\n",
        "logaritmo_base_10 = math.log10(numero)\n",
        "\n",
        "print(f\"O logaritmo de {numero} na base 10 é: {logaritmo_base_10}\")"
      ],
      "metadata": {
        "colab": {
          "base_uri": "https://localhost:8080/"
        },
        "id": "w6ktuGTedPAs",
        "outputId": "090ea8c1-6eb0-4213-9c07-3a5af063c085"
      },
      "execution_count": 5,
      "outputs": [
        {
          "output_type": "stream",
          "name": "stdout",
          "text": [
            "Digite um número: 23\n",
            "O logaritmo de 23.0 na base 10 é: 1.3617278360175928\n"
          ]
        }
      ]
    },
    {
      "cell_type": "markdown",
      "source": [
        "Algoritmo 48 - Antes de o racionamento de energia ser decretado, quase ninguém falava em quilowatts; mas, agora, todos incorporaram essa palavra em seu vocabulário. Sabendo-se que 100 quilowatts de energia custa um sétimo do salário mínimo,\n",
        "fazer um algoritmo que receba o valor do salário mínimo e a quantidade de quilo-watts gasta por uma residência e calcule. Imprima:\n",
        "\n",
        "o valor em reais de cada quilowatt\n",
        "o valor em reais a ser pago o novo valor a ser pago por essa residência com um desconto de 10%.\n",
        "*\n"
      ],
      "metadata": {
        "id": "3gE8aZGhdq0E"
      }
    },
    {
      "cell_type": "code",
      "source": [
        "salario_minimo = float(input(\"Digite o valor do salário mínimo: \"))\n",
        "quilowatts_gastos = float(input(\"Digite a quantidade de quilowatts gasta pela residência: \"))\n",
        "\n",
        "valor_por_quilowatt = salario_minimo / 7 / 100\n",
        "\n",
        "valor_total = valor_por_quilowatt * quilowatts_gastos\n",
        "\n",
        "desconto = valor_total * 0.10\n",
        "valor_com_desconto = valor_total - desconto\n",
        "\n",
        "print(f\"O valor em reais de cada quilowatt é: R${valor_por_quilowatt:.2f}\")\n",
        "print(f\"O valor total a ser pago pela residência é: R${valor_total:.2f}\")\n",
        "print(f\"O novo valor a ser pago com desconto de 10% é: R${valor_com_desconto:.2f}\")"
      ],
      "metadata": {
        "colab": {
          "base_uri": "https://localhost:8080/"
        },
        "id": "IQe_ROhwduiV",
        "outputId": "fa5b5a06-6246-414c-81cc-184c91c44bc5"
      },
      "execution_count": 6,
      "outputs": [
        {
          "output_type": "stream",
          "name": "stdout",
          "text": [
            "Digite o valor do salário mínimo: 1200\n",
            "Digite a quantidade de quilowatts gasta pela residência: 12\n",
            "O valor em reais de cada quilowatt é: R$1.71\n",
            "O valor total a ser pago pela residência é: R$20.57\n",
            "O novo valor a ser pago com desconto de 10% é: R$18.51\n"
          ]
        }
      ]
    },
    {
      "cell_type": "markdown",
      "source": [
        "Algoritmo 45 - Entrar com um número e imprimir a seguinte saída:\n",
        "numero:\n",
        "quadrado:\n",
        "raiz quadrada:"
      ],
      "metadata": {
        "id": "s6ZKcLVRd6Pk"
      }
    },
    {
      "cell_type": "code",
      "source": [
        "numero = float(input(\"Digite um número: \"))\n",
        "\n",
        "quadrado = numero ** 2\n",
        "\n",
        "raiz_quadrada = numero ** 0.5\n",
        "\n",
        "print(\"Número:\", numero)\n",
        "print(\"Quadrado:\", quadrado)\n",
        "print(\"Raiz Quadrada:\", raiz_quadrada)"
      ],
      "metadata": {
        "colab": {
          "base_uri": "https://localhost:8080/"
        },
        "id": "OfuZJH9-d64y",
        "outputId": "0b9d882b-58a4-4be9-bb0c-4a5d689c4c4e"
      },
      "execution_count": 7,
      "outputs": [
        {
          "output_type": "stream",
          "name": "stdout",
          "text": [
            "Digite um número: 2\n",
            "Número: 2.0\n",
            "Quadrado: 4.0\n",
            "Raiz Quadrada: 1.4142135623730951\n"
          ]
        }
      ]
    },
    {
      "cell_type": "markdown",
      "source": [
        "Algoritmo 49 - Entrar com um nome e imprimir:\n",
        "todo nome:\n",
        "primeiro caractere:\n",
        "ultimo caractere:\n",
        "do primeiro ate o terceiro:\n",
        "quarto caractere:\n",
        "todos menos o primeiro:\n",
        "os dois ultimos:"
      ],
      "metadata": {
        "id": "zcJtmAL2eECr"
      }
    },
    {
      "cell_type": "code",
      "source": [
        "nome = input(\"Digite um nome: \")\n",
        "\n",
        "print(\"Nome completo:\", nome)\n",
        "\n",
        "print(\"Primeiro caractere:\", nome[0])\n",
        "\n",
        "print(\"Último caractere:\", nome[-1])\n",
        "\n",
        "print(\"Do primeiro ao terceiro:\", nome[0:3])\n",
        "\n",
        "print(\"Quarto caractere:\", nome[3])\n",
        "\n",
        "print(\"Todos menos o primeiro:\", nome[1:])\n",
        "\n",
        "print(\"Os dois últimos:\", nome[-2:])"
      ],
      "metadata": {
        "colab": {
          "base_uri": "https://localhost:8080/"
        },
        "id": "B3T9nCP4eHnF",
        "outputId": "0a2c0ded-cdb0-4dc3-afb7-9009afb49d0d"
      },
      "execution_count": 8,
      "outputs": [
        {
          "output_type": "stream",
          "name": "stdout",
          "text": [
            "Digite um nome: Douglas\n",
            "Nome completo: Douglas\n",
            "Primeiro caractere: D\n",
            "Último caractere: s\n",
            "Do primeiro ao terceiro: Dou\n",
            "Quarto caractere: g\n",
            "Todos menos o primeiro: ouglas\n",
            "Os dois últimos: as\n"
          ]
        }
      ]
    },
    {
      "cell_type": "markdown",
      "source": [
        "Algoritmo 50 - Entrar com a base e a altura de um retângulo e imprimir a seguinte saída:\n",
        "perímetro\n",
        "área\n",
        "diagonal:"
      ],
      "metadata": {
        "id": "wa5dl-I5eT6M"
      }
    },
    {
      "cell_type": "code",
      "source": [
        "base = float(input(\"Digite a base do retângulo: \"))\n",
        "altura = float(input(\"Digite a altura do retângulo: \"))\n",
        "\n",
        "perimetro = 2 * (base + altura)\n",
        "\n",
        "area = base * altura\n",
        "\n",
        "diagonal = (base ** 2 + altura ** 2) ** 0.5\n",
        "\n",
        "print(\"Perímetro:\", perimetro)\n",
        "print(\"Área:\", area)\n",
        "print(\"Diagonal:\", diagonal)"
      ],
      "metadata": {
        "colab": {
          "base_uri": "https://localhost:8080/"
        },
        "id": "Vf2pBiWkeYuy",
        "outputId": "12b0b142-780b-40dd-8833-eea80895ad53"
      },
      "execution_count": 9,
      "outputs": [
        {
          "output_type": "stream",
          "name": "stdout",
          "text": [
            "Digite a base do retângulo: 7\n",
            "Digite a altura do retângulo: 2\n",
            "Perímetro: 18.0\n",
            "Área: 14.0\n",
            "Diagonal: 7.280109889280518\n"
          ]
        }
      ]
    }
  ]
}