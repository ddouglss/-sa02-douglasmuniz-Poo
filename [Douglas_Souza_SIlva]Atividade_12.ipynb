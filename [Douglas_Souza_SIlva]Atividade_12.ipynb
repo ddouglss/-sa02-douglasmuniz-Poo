{
  "nbformat": 4,
  "nbformat_minor": 0,
  "metadata": {
    "colab": {
      "provenance": [],
      "authorship_tag": "ABX9TyMj+tifDEFwdFERcYITIK03",
      "include_colab_link": true
    },
    "kernelspec": {
      "name": "python3",
      "display_name": "Python 3"
    },
    "language_info": {
      "name": "python"
    }
  },
  "cells": [
    {
      "cell_type": "markdown",
      "metadata": {
        "id": "view-in-github",
        "colab_type": "text"
      },
      "source": [
        "<a href=\"https://colab.research.google.com/github/ddouglss/-sa02-douglasmuniz-Poo/blob/master/%5BDouglas_Souza_SIlva%5DAtividade_12.ipynb\" target=\"_parent\"><img src=\"https://colab.research.google.com/assets/colab-badge.svg\" alt=\"Open In Colab\"/></a>"
      ]
    },
    {
      "cell_type": "markdown",
      "source": [
        " Implemente as classes conforme o diagrama abaixo:"
      ],
      "metadata": {
        "id": "M_9xNDaC624t"
      }
    },
    {
      "cell_type": "code",
      "execution_count": null,
      "metadata": {
        "colab": {
          "base_uri": "https://localhost:8080/"
        },
        "id": "AvKA2S486r5C",
        "outputId": "428b655e-cf51-45f8-9874-da6f1f960cac"
      },
      "outputs": [
        {
          "output_type": "stream",
          "name": "stdout",
          "text": [
            "12345678900\n",
            "1231231231231321\n",
            "Douglas\n",
            "81709565\n",
            "Brasilia\n",
            "Dominique\n",
            "82410201\n",
            "23156498701\n"
          ]
        }
      ],
      "source": [
        "from abc import ABC, abstractmethod\n",
        "\n",
        "class TestarPessoa(ABC):\n",
        "    @abstractmethod\n",
        "    def addPessoa(self):\n",
        "        pass\n",
        "\n",
        "    def nome(self, nome):\n",
        "        self.__nome = nome\n",
        "\n",
        "    def telefone(self, telefone):\n",
        "        self.__telefone = telefone\n",
        "\n",
        "    def endereco(self, endereco):\n",
        "        self.__endereco = endereco\n",
        "\n",
        "class PessoaFisica(TestarPessoa):\n",
        "    def __init__(self, cpf, cnpj, nome, telefone, endereco):\n",
        "        self.__cpf = cpf\n",
        "        self.__cnpj = cnpj\n",
        "        self.__nome = nome\n",
        "        self.__telefone = telefone\n",
        "        self.__endereco = endereco\n",
        "\n",
        "    def addPessoa(self, cpf, cnpj):\n",
        "        self.__cpf = cpf\n",
        "        self.__cnpj = cnpj\n",
        "\n",
        "    def __str__(self):\n",
        "        return f\"CPF: {self.__cpf}, CNPJ:{self.__cnpj}, Nome: {self.__nome}, Telefone: {self.__telefone}, Endereço: {self.__endereco}\"\n",
        "\n",
        "    def get_cpf(self):\n",
        "        return self.__cpf\n",
        "\n",
        "    def get_cnpj(self):\n",
        "        return self.__cnpj\n",
        "\n",
        "    def get_nome(self):\n",
        "        return self.__nome\n",
        "\n",
        "    def get_telefone(self):\n",
        "        return self.__telefone\n",
        "\n",
        "    def get_endereco(self):\n",
        "        return self.__endereco\n",
        "\n",
        "    def set_cpf(self, cpf):\n",
        "        self.__cpf = cpf\n",
        "\n",
        "    def set_cnpj(self, cnpj):\n",
        "        self.__cnpj = cnpj\n",
        "\n",
        "    def set_nome(self, nome):\n",
        "        self.__nome = nome\n",
        "\n",
        "    def set_telefone(self, telefone):\n",
        "        self.__telefone = telefone\n",
        "\n",
        "    def set_endereco(self, endereco):\n",
        "        self.__endereco = endereco\n",
        "\n",
        "pessoa1 = PessoaFisica(\"12345678900\", \"1231231231231321\", \"Douglas\", \"81709565\", \"Brasilia\")\n",
        "print(pessoa1.get_cpf())\n",
        "print(pessoa1.get_cnpj())\n",
        "print(pessoa1.get_nome())\n",
        "print(pessoa1.get_telefone())\n",
        "print(pessoa1.get_endereco())\n",
        "\n",
        "pessoa1.set_nome(\"Dominique\")\n",
        "pessoa1.set_telefone(\"82410201\")\n",
        "pessoa1.set_cpf(\"23156498701\")\n",
        "\n",
        "print(pessoa1.get_nome())\n",
        "print(pessoa1.get_telefone())\n",
        "print(pessoa1.get_cpf())\n"
      ]
    },
    {
      "cell_type": "markdown",
      "source": [
        "2 - Implemente o diagrama de classes a seguir:\n"
      ],
      "metadata": {
        "id": "knYhoTPDOLJx"
      }
    },
    {
      "cell_type": "code",
      "source": [
        "import math\n",
        "\n",
        "class FormaGeometrica:\n",
        "    def calcular_area(self):\n",
        "        pass\n",
        "\n",
        "    def calcular_perimetro(self):\n",
        "        pass\n",
        "\n",
        "class Circulo(FormaGeometrica):\n",
        "    def __init__(self, raio):\n",
        "        self.raio = raio\n",
        "\n",
        "    def calcular_area(self):\n",
        "        return math.pi * self.raio ** 2\n",
        "\n",
        "    def calcular_perimetro(self):\n",
        "        return 2 * math.pi * self.raio\n",
        "\n",
        "class Quadrado(FormaGeometrica):\n",
        "    def __init__(self, lado):\n",
        "        self.lado = lado\n",
        "\n",
        "    def calcular_area(self):\n",
        "        return self.lado ** 2\n",
        "\n",
        "    def calcular_perimetro(self):\n",
        "        return 4 * self.lado\n",
        "\n",
        "raio_circulo = 5\n",
        "quadrado_lado = 4\n",
        "\n",
        "circulo = Circulo(raio_circulo)\n",
        "print(\"Área do círculo:\", circulo.calcular_area())\n",
        "print(\"Perímetro do círculo:\", circulo.calcular_perimetro())\n",
        "\n",
        "quadrado = Quadrado(quadrado_lado)\n",
        "print(\"Área do quadrado:\", quadrado.calcular_area())\n",
        "print(\"Perímetro do quadrado:\", quadrado.calcular_perimetro())\n",
        "\n",
        "\n",
        "\n",
        ""
      ],
      "metadata": {
        "id": "IczczETIOOHw",
        "colab": {
          "base_uri": "https://localhost:8080/"
        },
        "outputId": "e6bf25c0-2789-4fb2-a25f-4c1b815ca2f1"
      },
      "execution_count": 1,
      "outputs": [
        {
          "output_type": "stream",
          "name": "stdout",
          "text": [
            "Área do círculo: 78.53981633974483\n",
            "Perímetro do círculo: 31.41592653589793\n",
            "Área do quadrado: 16\n",
            "Perímetro do quadrado: 16\n"
          ]
        }
      ]
    },
    {
      "cell_type": "markdown",
      "source": [
        "3-Implemente as classes e interface do diagrama a seguir:\n"
      ],
      "metadata": {
        "id": "jH8onJlhlmqr"
      }
    },
    {
      "cell_type": "code",
      "source": [
        "from abc import ABC, abstractmethod\n",
        "\n",
        "class OperacaoMatematica(ABC):\n",
        "    @abstractmethod\n",
        "    def calcula(self, a, b):\n",
        "        pass\n",
        "\n",
        "class Soma(OperacaoMatematica):\n",
        "    def calcula(self, a, b):\n",
        "        return a + b\n",
        "\n",
        "class Subtracao(OperacaoMatematica):\n",
        "    def calcula(self, a, b):\n",
        "        return a - b\n",
        "\n",
        "class Multiplicacao(OperacaoMatematica):\n",
        "    def calcula(self, a, b):\n",
        "        return a * b\n",
        "\n",
        "class Divisao(OperacaoMatematica):\n",
        "    def calcula(self, a, b):\n",
        "        if b != 0:\n",
        "            return a / b\n",
        "        else:\n",
        "            return \"Erro: divisão por zero\"\n",
        "\n",
        "\n",
        "soma = Soma()\n",
        "subtracao = Subtracao()\n",
        "multiplicacao = Multiplicacao()\n",
        "divisao = Divisao()\n",
        "\n",
        "resultado_soma = soma.calcula(5, 3)\n",
        "resultado_subtracao = subtracao.calcula(8, 2)\n",
        "resultado_multiplicacao = multiplicacao.calcula(4, 6)\n",
        "resultado_divisao = divisao.calcula(10, 2)\n",
        "\n",
        "print(\"Resultado da soma:\", resultado_soma)\n",
        "print(\"Resultado da subtração:\", resultado_subtracao)\n",
        "print(\"Resultado da multiplicação:\", resultado_multiplicacao)\n",
        "print(\"Resultado da divisão:\", resultado_divisao)\n"
      ],
      "metadata": {
        "colab": {
          "base_uri": "https://localhost:8080/"
        },
        "id": "4Ex1rbeWloMv",
        "outputId": "bfad26a0-2ef2-40b0-da2f-17cf683eac64"
      },
      "execution_count": 2,
      "outputs": [
        {
          "output_type": "stream",
          "name": "stdout",
          "text": [
            "Resultado da soma: 8\n",
            "Resultado da subtração: 6\n",
            "Resultado da multiplicação: 24\n",
            "Resultado da divisão: 5.0\n"
          ]
        }
      ]
    },
    {
      "cell_type": "markdown",
      "source": [
        "4: Implemente as classes e interface do diagrama a seguir:\n"
      ],
      "metadata": {
        "id": "aDX8iA_oURUa"
      }
    },
    {
      "cell_type": "code",
      "source": [
        "import math\n",
        "class Impressao:\n",
        "  def imprimeDados(self):\n",
        "    pass\n",
        "\n",
        "class FormaGeometrica:\n",
        "  def area(self):\n",
        "    pass\n",
        "  def comprimento(self):\n",
        "    pass\n",
        "\n",
        "class Circulo(Impressao, FormaGeometrica):\n",
        "  def __init__ (self, raio):\n",
        "    self.__raio = raio\n",
        "\n",
        "  def area(self):\n",
        "    return 3.14159 *  math.pow(self.__raio, 2)\n",
        "\n",
        "  def comprimento (self):\n",
        "    return 2*3.14*self.__raio\n",
        "\n",
        "  def imprimeDados(self):\n",
        "    print(\"Área do Circulo \", self.area())\n",
        "    print(\"Comprimento do Circulo \", self.comprimento())\n",
        "\n",
        "circulo = Circulo (5)\n",
        "circulo.imprimeDados()"
      ],
      "metadata": {
        "id": "I62cW-C2URmV"
      },
      "execution_count": null,
      "outputs": []
    },
    {
      "cell_type": "markdown",
      "source": [
        " Dado o diagrama UML da Figura 1.1,"
      ],
      "metadata": {
        "id": "M-6j-hxLnDnp"
      }
    },
    {
      "cell_type": "code",
      "source": [
        "from abc import ABC, abstractmethod\n",
        "\n",
        "class Commission:\n",
        "    COMMISSION_RATE = 0.10\n",
        "\n",
        "    def setVendas(self, sales):\n",
        "        self.sales = sales\n",
        "\n",
        "class Empregado(ABC):\n",
        "    def __init__(self, name):\n",
        "        self.name = name\n",
        "\n",
        "    @abstractmethod\n",
        "    def getPay(self):\n",
        "        pass\n",
        "\n",
        "    def printPay(self):\n",
        "        print(\"Nome:\", self.name)\n",
        "        print(\"Pagamento:\", self.getPay())\n",
        "\n",
        "class PorHora(Empregado):\n",
        "    def __init__(self, name):\n",
        "        super().__init__(name)\n",
        "        self.valorHora = 0.0\n",
        "        self.numHora = 0\n",
        "\n",
        "    def setValorHora(self, valor):\n",
        "        self.valorHora = valor\n",
        "\n",
        "    def setNumHora(self, numHora):\n",
        "        self.numHora = numHora\n",
        "\n",
        "    def getValorHora(self):\n",
        "        return self.valorHora\n",
        "\n",
        "    def getNumHora(self):\n",
        "        return self.numHora\n",
        "\n",
        "    def getPay(self):\n",
        "        return self.valorHora * self.numHora\n",
        "\n",
        "class PorComissao(Empregado, Commission):\n",
        "    def __init__(self, name):\n",
        "        super().__init__(name)\n",
        "        self.sales = 0.0\n",
        "\n",
        "    def getPay(self):\n",
        "        return self.sales * self.COMMISSION_RATE\n",
        "\n",
        "class PorHoraeComissao(Empregado, Commission):\n",
        "    def __init__(self, name):\n",
        "        super().__init__(name)\n",
        "        self.sales = 0.0\n",
        "\n",
        "    def setVendas(self, sales):\n",
        "        super().setVendas(sales)\n",
        "\n",
        "    def getPay(self):\n",
        "        return self.sales * self.COMMISSION_RATE\n",
        "\n",
        "class FolhaDePagamento:\n",
        "    def main(self):\n",
        "        porHora = PorHora(\"Douglas\")\n",
        "        porHora.setValorHora(10.0)\n",
        "        porHora.setNumHora(40)\n",
        "\n",
        "        porComissao = PorComissao(\"Maria\")\n",
        "        porComissao.setVendas(5000.0)\n",
        "\n",
        "        porHoraComissao = PorHoraeComissao(\"Dominique\")\n",
        "        porHoraComissao.setVendas(10000.0)\n",
        "\n",
        "        porHora.printPay()\n",
        "        porComissao.printPay()\n",
        "        porHoraComissao.printPay()\n",
        "\n",
        "\n",
        "folhaDePagamento = FolhaDePagamento()\n",
        "folhaDePagamento.main()\n"
      ],
      "metadata": {
        "colab": {
          "base_uri": "https://localhost:8080/"
        },
        "id": "YekfipTKnFRo",
        "outputId": "a4b0bf78-fce1-42dc-daf7-64bbdbfa26d1"
      },
      "execution_count": 3,
      "outputs": [
        {
          "output_type": "stream",
          "name": "stdout",
          "text": [
            "Nome: Douglas\n",
            "Pagamento: 400.0\n",
            "Nome: Maria\n",
            "Pagamento: 500.0\n",
            "Nome: Dominique\n",
            "Pagamento: 1000.0\n"
          ]
        }
      ]
    }
  ]
}